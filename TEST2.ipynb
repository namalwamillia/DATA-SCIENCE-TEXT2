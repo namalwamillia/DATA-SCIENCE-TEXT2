{
 "cells": [
  {
   "cell_type": "code",
   "execution_count": 33,
   "metadata": {},
   "outputs": [],
   "source": [
    "import pandas as pd\n",
    "%matplotlib inline\n",
    "import matplotlib.pyplot as plt\n",
    "import seaborn as sns\n",
    "import warnings\n",
    "warnings.filterwarnings\n",
    "import numpy as np"
   ]
  },
  {
   "cell_type": "code",
   "execution_count": 34,
   "metadata": {},
   "outputs": [
    {
     "name": "stdout",
     "output_type": "stream",
     "text": [
      "                             name  school_rating   size  reduced_lunch  \\\n",
      "0     Allendale Elementary School            5.0  851.0           10.0   \n",
      "1             Anderson Elementary            2.0  412.0           71.0   \n",
      "2                Avoca Elementary            4.0  482.0           43.0   \n",
      "3                   Bailey Middle            0.0  394.0           91.0   \n",
      "4             Barfield Elementary            4.0  948.0           26.0   \n",
      "..                            ...            ...    ...            ...   \n",
      "342  Winfree Bryant Middle School            3.0  611.0           57.0   \n",
      "343    Winstead Elementary School            5.0  515.0            8.0   \n",
      "344           Woodland Elementary            4.0  424.0           55.0   \n",
      "345        Woodland Middle School            5.0  866.0            2.0   \n",
      "346                 Wright Middle            0.0  829.0           89.0   \n",
      "\n",
      "     state_percentile_16  state_percentile_15  stu_teach_ratio    school_type  \\\n",
      "0                   90.2                 95.8             15.7         Public   \n",
      "1                   32.8                 37.3             12.8         Public   \n",
      "2                   78.4                 83.6             16.6         Public   \n",
      "3                    1.6                  1.0             13.1  Public Magnet   \n",
      "4                   85.3                 89.2             14.8         Public   \n",
      "..                   ...                  ...              ...            ...   \n",
      "342                 59.1                 65.2             16.9         Public   \n",
      "343                 93.9                 97.0             14.3         Public   \n",
      "344                 84.8                 76.7             14.1         Public   \n",
      "345                 93.3                 97.1             19.2         Public   \n",
      "346                  4.5                  1.2             16.5         Public   \n",
      "\n",
      "     avg_score_15  avg_score_16  full_time_teachers  percent_black  \\\n",
      "0            89.4          85.2                54.0            2.9   \n",
      "1            43.0          38.3                32.0            3.9   \n",
      "2            75.7          73.0                29.0            1.0   \n",
      "3             2.1           4.4                30.0           80.7   \n",
      "4            81.3          79.6                64.0           11.8   \n",
      "..            ...           ...                 ...            ...   \n",
      "342          61.4          57.7                36.0           15.2   \n",
      "343          92.0          89.3                36.0            3.3   \n",
      "344          69.4          79.4                30.0           11.6   \n",
      "345          89.8          84.9                45.0            4.5   \n",
      "346           2.7           9.6                50.0           22.3   \n",
      "\n",
      "     percent_white  percent_asian  percent_hispanic  \n",
      "0             85.5            1.6               5.6  \n",
      "1             86.7            1.0               4.9  \n",
      "2             91.5            1.2               4.4  \n",
      "3             11.7            2.3               4.3  \n",
      "4             71.2            7.1               6.0  \n",
      "..             ...            ...               ...  \n",
      "342           66.3            1.5              15.7  \n",
      "343           87.4            3.1               4.1  \n",
      "344           70.5            2.1               9.7  \n",
      "345           77.6           10.0               4.4  \n",
      "346           21.0            6.6              49.5  \n",
      "\n",
      "[347 rows x 15 columns]\n"
     ]
    }
   ],
   "source": [
    "import pandas as pd\n",
    "df= pd.read_csv('https://raw.githubusercontent.com/LearnDataSci/article-resources/master/Essential%20Statistics/middle_tn_schools.csv')\n",
    "print(df)"
   ]
  },
  {
   "cell_type": "code",
   "execution_count": 35,
   "metadata": {},
   "outputs": [
    {
     "data": {
      "text/html": [
       "<div>\n",
       "<style scoped>\n",
       "    .dataframe tbody tr th:only-of-type {\n",
       "        vertical-align: middle;\n",
       "    }\n",
       "\n",
       "    .dataframe tbody tr th {\n",
       "        vertical-align: top;\n",
       "    }\n",
       "\n",
       "    .dataframe thead th {\n",
       "        text-align: right;\n",
       "    }\n",
       "</style>\n",
       "<table border=\"1\" class=\"dataframe\">\n",
       "  <thead>\n",
       "    <tr style=\"text-align: right;\">\n",
       "      <th></th>\n",
       "      <th>name</th>\n",
       "      <th>school_rating</th>\n",
       "      <th>size</th>\n",
       "      <th>reduced_lunch</th>\n",
       "      <th>state_percentile_16</th>\n",
       "      <th>state_percentile_15</th>\n",
       "      <th>stu_teach_ratio</th>\n",
       "      <th>school_type</th>\n",
       "      <th>avg_score_15</th>\n",
       "      <th>avg_score_16</th>\n",
       "      <th>full_time_teachers</th>\n",
       "      <th>percent_black</th>\n",
       "      <th>percent_white</th>\n",
       "      <th>percent_asian</th>\n",
       "      <th>percent_hispanic</th>\n",
       "    </tr>\n",
       "  </thead>\n",
       "  <tbody>\n",
       "    <tr>\n",
       "      <th>0</th>\n",
       "      <td>Allendale Elementary School</td>\n",
       "      <td>5.0</td>\n",
       "      <td>851.0</td>\n",
       "      <td>10.0</td>\n",
       "      <td>90.2</td>\n",
       "      <td>95.8</td>\n",
       "      <td>15.7</td>\n",
       "      <td>Public</td>\n",
       "      <td>89.4</td>\n",
       "      <td>85.2</td>\n",
       "      <td>54.0</td>\n",
       "      <td>2.9</td>\n",
       "      <td>85.5</td>\n",
       "      <td>1.6</td>\n",
       "      <td>5.6</td>\n",
       "    </tr>\n",
       "    <tr>\n",
       "      <th>1</th>\n",
       "      <td>Anderson Elementary</td>\n",
       "      <td>2.0</td>\n",
       "      <td>412.0</td>\n",
       "      <td>71.0</td>\n",
       "      <td>32.8</td>\n",
       "      <td>37.3</td>\n",
       "      <td>12.8</td>\n",
       "      <td>Public</td>\n",
       "      <td>43.0</td>\n",
       "      <td>38.3</td>\n",
       "      <td>32.0</td>\n",
       "      <td>3.9</td>\n",
       "      <td>86.7</td>\n",
       "      <td>1.0</td>\n",
       "      <td>4.9</td>\n",
       "    </tr>\n",
       "    <tr>\n",
       "      <th>2</th>\n",
       "      <td>Avoca Elementary</td>\n",
       "      <td>4.0</td>\n",
       "      <td>482.0</td>\n",
       "      <td>43.0</td>\n",
       "      <td>78.4</td>\n",
       "      <td>83.6</td>\n",
       "      <td>16.6</td>\n",
       "      <td>Public</td>\n",
       "      <td>75.7</td>\n",
       "      <td>73.0</td>\n",
       "      <td>29.0</td>\n",
       "      <td>1.0</td>\n",
       "      <td>91.5</td>\n",
       "      <td>1.2</td>\n",
       "      <td>4.4</td>\n",
       "    </tr>\n",
       "    <tr>\n",
       "      <th>3</th>\n",
       "      <td>Bailey Middle</td>\n",
       "      <td>0.0</td>\n",
       "      <td>394.0</td>\n",
       "      <td>91.0</td>\n",
       "      <td>1.6</td>\n",
       "      <td>1.0</td>\n",
       "      <td>13.1</td>\n",
       "      <td>Public Magnet</td>\n",
       "      <td>2.1</td>\n",
       "      <td>4.4</td>\n",
       "      <td>30.0</td>\n",
       "      <td>80.7</td>\n",
       "      <td>11.7</td>\n",
       "      <td>2.3</td>\n",
       "      <td>4.3</td>\n",
       "    </tr>\n",
       "    <tr>\n",
       "      <th>4</th>\n",
       "      <td>Barfield Elementary</td>\n",
       "      <td>4.0</td>\n",
       "      <td>948.0</td>\n",
       "      <td>26.0</td>\n",
       "      <td>85.3</td>\n",
       "      <td>89.2</td>\n",
       "      <td>14.8</td>\n",
       "      <td>Public</td>\n",
       "      <td>81.3</td>\n",
       "      <td>79.6</td>\n",
       "      <td>64.0</td>\n",
       "      <td>11.8</td>\n",
       "      <td>71.2</td>\n",
       "      <td>7.1</td>\n",
       "      <td>6.0</td>\n",
       "    </tr>\n",
       "    <tr>\n",
       "      <th>...</th>\n",
       "      <td>...</td>\n",
       "      <td>...</td>\n",
       "      <td>...</td>\n",
       "      <td>...</td>\n",
       "      <td>...</td>\n",
       "      <td>...</td>\n",
       "      <td>...</td>\n",
       "      <td>...</td>\n",
       "      <td>...</td>\n",
       "      <td>...</td>\n",
       "      <td>...</td>\n",
       "      <td>...</td>\n",
       "      <td>...</td>\n",
       "      <td>...</td>\n",
       "      <td>...</td>\n",
       "    </tr>\n",
       "    <tr>\n",
       "      <th>342</th>\n",
       "      <td>Winfree Bryant Middle School</td>\n",
       "      <td>3.0</td>\n",
       "      <td>611.0</td>\n",
       "      <td>57.0</td>\n",
       "      <td>59.1</td>\n",
       "      <td>65.2</td>\n",
       "      <td>16.9</td>\n",
       "      <td>Public</td>\n",
       "      <td>61.4</td>\n",
       "      <td>57.7</td>\n",
       "      <td>36.0</td>\n",
       "      <td>15.2</td>\n",
       "      <td>66.3</td>\n",
       "      <td>1.5</td>\n",
       "      <td>15.7</td>\n",
       "    </tr>\n",
       "    <tr>\n",
       "      <th>343</th>\n",
       "      <td>Winstead Elementary School</td>\n",
       "      <td>5.0</td>\n",
       "      <td>515.0</td>\n",
       "      <td>8.0</td>\n",
       "      <td>93.9</td>\n",
       "      <td>97.0</td>\n",
       "      <td>14.3</td>\n",
       "      <td>Public</td>\n",
       "      <td>92.0</td>\n",
       "      <td>89.3</td>\n",
       "      <td>36.0</td>\n",
       "      <td>3.3</td>\n",
       "      <td>87.4</td>\n",
       "      <td>3.1</td>\n",
       "      <td>4.1</td>\n",
       "    </tr>\n",
       "    <tr>\n",
       "      <th>344</th>\n",
       "      <td>Woodland Elementary</td>\n",
       "      <td>4.0</td>\n",
       "      <td>424.0</td>\n",
       "      <td>55.0</td>\n",
       "      <td>84.8</td>\n",
       "      <td>76.7</td>\n",
       "      <td>14.1</td>\n",
       "      <td>Public</td>\n",
       "      <td>69.4</td>\n",
       "      <td>79.4</td>\n",
       "      <td>30.0</td>\n",
       "      <td>11.6</td>\n",
       "      <td>70.5</td>\n",
       "      <td>2.1</td>\n",
       "      <td>9.7</td>\n",
       "    </tr>\n",
       "    <tr>\n",
       "      <th>345</th>\n",
       "      <td>Woodland Middle School</td>\n",
       "      <td>5.0</td>\n",
       "      <td>866.0</td>\n",
       "      <td>2.0</td>\n",
       "      <td>93.3</td>\n",
       "      <td>97.1</td>\n",
       "      <td>19.2</td>\n",
       "      <td>Public</td>\n",
       "      <td>89.8</td>\n",
       "      <td>84.9</td>\n",
       "      <td>45.0</td>\n",
       "      <td>4.5</td>\n",
       "      <td>77.6</td>\n",
       "      <td>10.0</td>\n",
       "      <td>4.4</td>\n",
       "    </tr>\n",
       "    <tr>\n",
       "      <th>346</th>\n",
       "      <td>Wright Middle</td>\n",
       "      <td>0.0</td>\n",
       "      <td>829.0</td>\n",
       "      <td>89.0</td>\n",
       "      <td>4.5</td>\n",
       "      <td>1.2</td>\n",
       "      <td>16.5</td>\n",
       "      <td>Public</td>\n",
       "      <td>2.7</td>\n",
       "      <td>9.6</td>\n",
       "      <td>50.0</td>\n",
       "      <td>22.3</td>\n",
       "      <td>21.0</td>\n",
       "      <td>6.6</td>\n",
       "      <td>49.5</td>\n",
       "    </tr>\n",
       "  </tbody>\n",
       "</table>\n",
       "<p>341 rows × 15 columns</p>\n",
       "</div>"
      ],
      "text/plain": [
       "                             name  school_rating   size  reduced_lunch  \\\n",
       "0     Allendale Elementary School            5.0  851.0           10.0   \n",
       "1             Anderson Elementary            2.0  412.0           71.0   \n",
       "2                Avoca Elementary            4.0  482.0           43.0   \n",
       "3                   Bailey Middle            0.0  394.0           91.0   \n",
       "4             Barfield Elementary            4.0  948.0           26.0   \n",
       "..                            ...            ...    ...            ...   \n",
       "342  Winfree Bryant Middle School            3.0  611.0           57.0   \n",
       "343    Winstead Elementary School            5.0  515.0            8.0   \n",
       "344           Woodland Elementary            4.0  424.0           55.0   \n",
       "345        Woodland Middle School            5.0  866.0            2.0   \n",
       "346                 Wright Middle            0.0  829.0           89.0   \n",
       "\n",
       "     state_percentile_16  state_percentile_15  stu_teach_ratio    school_type  \\\n",
       "0                   90.2                 95.8             15.7         Public   \n",
       "1                   32.8                 37.3             12.8         Public   \n",
       "2                   78.4                 83.6             16.6         Public   \n",
       "3                    1.6                  1.0             13.1  Public Magnet   \n",
       "4                   85.3                 89.2             14.8         Public   \n",
       "..                   ...                  ...              ...            ...   \n",
       "342                 59.1                 65.2             16.9         Public   \n",
       "343                 93.9                 97.0             14.3         Public   \n",
       "344                 84.8                 76.7             14.1         Public   \n",
       "345                 93.3                 97.1             19.2         Public   \n",
       "346                  4.5                  1.2             16.5         Public   \n",
       "\n",
       "     avg_score_15  avg_score_16  full_time_teachers  percent_black  \\\n",
       "0            89.4          85.2                54.0            2.9   \n",
       "1            43.0          38.3                32.0            3.9   \n",
       "2            75.7          73.0                29.0            1.0   \n",
       "3             2.1           4.4                30.0           80.7   \n",
       "4            81.3          79.6                64.0           11.8   \n",
       "..            ...           ...                 ...            ...   \n",
       "342          61.4          57.7                36.0           15.2   \n",
       "343          92.0          89.3                36.0            3.3   \n",
       "344          69.4          79.4                30.0           11.6   \n",
       "345          89.8          84.9                45.0            4.5   \n",
       "346           2.7           9.6                50.0           22.3   \n",
       "\n",
       "     percent_white  percent_asian  percent_hispanic  \n",
       "0             85.5            1.6               5.6  \n",
       "1             86.7            1.0               4.9  \n",
       "2             91.5            1.2               4.4  \n",
       "3             11.7            2.3               4.3  \n",
       "4             71.2            7.1               6.0  \n",
       "..             ...            ...               ...  \n",
       "342           66.3            1.5              15.7  \n",
       "343           87.4            3.1               4.1  \n",
       "344           70.5            2.1               9.7  \n",
       "345           77.6           10.0               4.4  \n",
       "346           21.0            6.6              49.5  \n",
       "\n",
       "[341 rows x 15 columns]"
      ]
     },
     "execution_count": 35,
     "metadata": {},
     "output_type": "execute_result"
    }
   ],
   "source": [
    "df.dropna()"
   ]
  },
  {
   "cell_type": "code",
   "execution_count": 36,
   "metadata": {},
   "outputs": [
    {
     "data": {
      "text/plain": [
       "2.968299711815562"
      ]
     },
     "execution_count": 36,
     "metadata": {},
     "output_type": "execute_result"
    }
   ],
   "source": [
    "df.school_rating.mean()"
   ]
  },
  {
   "cell_type": "code",
   "execution_count": 37,
   "metadata": {},
   "outputs": [
    {
     "data": {
      "text/plain": [
       "2.8573736902600326"
      ]
     },
     "execution_count": 37,
     "metadata": {},
     "output_type": "execute_result"
    }
   ],
   "source": [
    "df.school_rating.var()"
   ]
  },
  {
   "cell_type": "code",
   "execution_count": 56,
   "metadata": {},
   "outputs": [
    {
     "data": {
      "text/plain": [
       "1.6903767894348385"
      ]
     },
     "execution_count": 56,
     "metadata": {},
     "output_type": "execute_result"
    }
   ],
   "source": [
    "df.school_rating.std()"
   ]
  },
  {
   "cell_type": "code",
   "execution_count": 38,
   "metadata": {},
   "outputs": [
    {
     "data": {
      "text/plain": [
       "0    4.0\n",
       "Name: school_rating, dtype: float64"
      ]
     },
     "execution_count": 38,
     "metadata": {},
     "output_type": "execute_result"
    }
   ],
   "source": [
    "df.school_rating.mode()"
   ]
  },
  {
   "cell_type": "code",
   "execution_count": 39,
   "metadata": {},
   "outputs": [
    {
     "data": {
      "text/plain": [
       "3.0"
      ]
     },
     "execution_count": 39,
     "metadata": {},
     "output_type": "execute_result"
    }
   ],
   "source": [
    "df.school_rating.median()"
   ]
  },
  {
   "cell_type": "code",
   "execution_count": 40,
   "metadata": {},
   "outputs": [
    {
     "data": {
      "text/html": [
       "<div>\n",
       "<style scoped>\n",
       "    .dataframe tbody tr th:only-of-type {\n",
       "        vertical-align: middle;\n",
       "    }\n",
       "\n",
       "    .dataframe tbody tr th {\n",
       "        vertical-align: top;\n",
       "    }\n",
       "\n",
       "    .dataframe thead th {\n",
       "        text-align: right;\n",
       "    }\n",
       "</style>\n",
       "<table border=\"1\" class=\"dataframe\">\n",
       "  <thead>\n",
       "    <tr style=\"text-align: right;\">\n",
       "      <th></th>\n",
       "      <th>name</th>\n",
       "      <th>school_rating</th>\n",
       "      <th>size</th>\n",
       "      <th>reduced_lunch</th>\n",
       "      <th>state_percentile_16</th>\n",
       "      <th>state_percentile_15</th>\n",
       "      <th>stu_teach_ratio</th>\n",
       "      <th>school_type</th>\n",
       "      <th>avg_score_15</th>\n",
       "      <th>avg_score_16</th>\n",
       "      <th>full_time_teachers</th>\n",
       "      <th>percent_black</th>\n",
       "      <th>percent_white</th>\n",
       "      <th>percent_asian</th>\n",
       "      <th>percent_hispanic</th>\n",
       "    </tr>\n",
       "  </thead>\n",
       "  <tbody>\n",
       "    <tr>\n",
       "      <th>0</th>\n",
       "      <td>Allendale Elementary School</td>\n",
       "      <td>5.0</td>\n",
       "      <td>851.0</td>\n",
       "      <td>10.0</td>\n",
       "      <td>90.2</td>\n",
       "      <td>95.8</td>\n",
       "      <td>15.7</td>\n",
       "      <td>Public</td>\n",
       "      <td>89.4</td>\n",
       "      <td>85.2</td>\n",
       "      <td>54.0</td>\n",
       "      <td>2.9</td>\n",
       "      <td>85.5</td>\n",
       "      <td>1.6</td>\n",
       "      <td>5.6</td>\n",
       "    </tr>\n",
       "    <tr>\n",
       "      <th>1</th>\n",
       "      <td>Anderson Elementary</td>\n",
       "      <td>2.0</td>\n",
       "      <td>412.0</td>\n",
       "      <td>71.0</td>\n",
       "      <td>32.8</td>\n",
       "      <td>37.3</td>\n",
       "      <td>12.8</td>\n",
       "      <td>Public</td>\n",
       "      <td>43.0</td>\n",
       "      <td>38.3</td>\n",
       "      <td>32.0</td>\n",
       "      <td>3.9</td>\n",
       "      <td>86.7</td>\n",
       "      <td>1.0</td>\n",
       "      <td>4.9</td>\n",
       "    </tr>\n",
       "    <tr>\n",
       "      <th>2</th>\n",
       "      <td>Avoca Elementary</td>\n",
       "      <td>4.0</td>\n",
       "      <td>482.0</td>\n",
       "      <td>43.0</td>\n",
       "      <td>78.4</td>\n",
       "      <td>83.6</td>\n",
       "      <td>16.6</td>\n",
       "      <td>Public</td>\n",
       "      <td>75.7</td>\n",
       "      <td>73.0</td>\n",
       "      <td>29.0</td>\n",
       "      <td>1.0</td>\n",
       "      <td>91.5</td>\n",
       "      <td>1.2</td>\n",
       "      <td>4.4</td>\n",
       "    </tr>\n",
       "    <tr>\n",
       "      <th>3</th>\n",
       "      <td>Bailey Middle</td>\n",
       "      <td>0.0</td>\n",
       "      <td>394.0</td>\n",
       "      <td>91.0</td>\n",
       "      <td>1.6</td>\n",
       "      <td>1.0</td>\n",
       "      <td>13.1</td>\n",
       "      <td>Public Magnet</td>\n",
       "      <td>2.1</td>\n",
       "      <td>4.4</td>\n",
       "      <td>30.0</td>\n",
       "      <td>80.7</td>\n",
       "      <td>11.7</td>\n",
       "      <td>2.3</td>\n",
       "      <td>4.3</td>\n",
       "    </tr>\n",
       "    <tr>\n",
       "      <th>4</th>\n",
       "      <td>Barfield Elementary</td>\n",
       "      <td>4.0</td>\n",
       "      <td>948.0</td>\n",
       "      <td>26.0</td>\n",
       "      <td>85.3</td>\n",
       "      <td>89.2</td>\n",
       "      <td>14.8</td>\n",
       "      <td>Public</td>\n",
       "      <td>81.3</td>\n",
       "      <td>79.6</td>\n",
       "      <td>64.0</td>\n",
       "      <td>11.8</td>\n",
       "      <td>71.2</td>\n",
       "      <td>7.1</td>\n",
       "      <td>6.0</td>\n",
       "    </tr>\n",
       "  </tbody>\n",
       "</table>\n",
       "</div>"
      ],
      "text/plain": [
       "                          name  school_rating   size  reduced_lunch  \\\n",
       "0  Allendale Elementary School            5.0  851.0           10.0   \n",
       "1          Anderson Elementary            2.0  412.0           71.0   \n",
       "2             Avoca Elementary            4.0  482.0           43.0   \n",
       "3                Bailey Middle            0.0  394.0           91.0   \n",
       "4          Barfield Elementary            4.0  948.0           26.0   \n",
       "\n",
       "   state_percentile_16  state_percentile_15  stu_teach_ratio    school_type  \\\n",
       "0                 90.2                 95.8             15.7         Public   \n",
       "1                 32.8                 37.3             12.8         Public   \n",
       "2                 78.4                 83.6             16.6         Public   \n",
       "3                  1.6                  1.0             13.1  Public Magnet   \n",
       "4                 85.3                 89.2             14.8         Public   \n",
       "\n",
       "   avg_score_15  avg_score_16  full_time_teachers  percent_black  \\\n",
       "0          89.4          85.2                54.0            2.9   \n",
       "1          43.0          38.3                32.0            3.9   \n",
       "2          75.7          73.0                29.0            1.0   \n",
       "3           2.1           4.4                30.0           80.7   \n",
       "4          81.3          79.6                64.0           11.8   \n",
       "\n",
       "   percent_white  percent_asian  percent_hispanic  \n",
       "0           85.5            1.6               5.6  \n",
       "1           86.7            1.0               4.9  \n",
       "2           91.5            1.2               4.4  \n",
       "3           11.7            2.3               4.3  \n",
       "4           71.2            7.1               6.0  "
      ]
     },
     "execution_count": 40,
     "metadata": {},
     "output_type": "execute_result"
    }
   ],
   "source": [
    "df.head()"
   ]
  },
  {
   "cell_type": "code",
   "execution_count": 41,
   "metadata": {},
   "outputs": [
    {
     "data": {
      "text/html": [
       "<div>\n",
       "<style scoped>\n",
       "    .dataframe tbody tr th:only-of-type {\n",
       "        vertical-align: middle;\n",
       "    }\n",
       "\n",
       "    .dataframe tbody tr th {\n",
       "        vertical-align: top;\n",
       "    }\n",
       "\n",
       "    .dataframe thead th {\n",
       "        text-align: right;\n",
       "    }\n",
       "</style>\n",
       "<table border=\"1\" class=\"dataframe\">\n",
       "  <thead>\n",
       "    <tr style=\"text-align: right;\">\n",
       "      <th></th>\n",
       "      <th>name</th>\n",
       "      <th>school_rating</th>\n",
       "      <th>size</th>\n",
       "      <th>reduced_lunch</th>\n",
       "      <th>state_percentile_16</th>\n",
       "      <th>state_percentile_15</th>\n",
       "      <th>stu_teach_ratio</th>\n",
       "      <th>school_type</th>\n",
       "      <th>avg_score_15</th>\n",
       "      <th>avg_score_16</th>\n",
       "      <th>full_time_teachers</th>\n",
       "      <th>percent_black</th>\n",
       "      <th>percent_white</th>\n",
       "      <th>percent_asian</th>\n",
       "      <th>percent_hispanic</th>\n",
       "    </tr>\n",
       "  </thead>\n",
       "  <tbody>\n",
       "    <tr>\n",
       "      <th>342</th>\n",
       "      <td>Winfree Bryant Middle School</td>\n",
       "      <td>3.0</td>\n",
       "      <td>611.0</td>\n",
       "      <td>57.0</td>\n",
       "      <td>59.1</td>\n",
       "      <td>65.2</td>\n",
       "      <td>16.9</td>\n",
       "      <td>Public</td>\n",
       "      <td>61.4</td>\n",
       "      <td>57.7</td>\n",
       "      <td>36.0</td>\n",
       "      <td>15.2</td>\n",
       "      <td>66.3</td>\n",
       "      <td>1.5</td>\n",
       "      <td>15.7</td>\n",
       "    </tr>\n",
       "    <tr>\n",
       "      <th>343</th>\n",
       "      <td>Winstead Elementary School</td>\n",
       "      <td>5.0</td>\n",
       "      <td>515.0</td>\n",
       "      <td>8.0</td>\n",
       "      <td>93.9</td>\n",
       "      <td>97.0</td>\n",
       "      <td>14.3</td>\n",
       "      <td>Public</td>\n",
       "      <td>92.0</td>\n",
       "      <td>89.3</td>\n",
       "      <td>36.0</td>\n",
       "      <td>3.3</td>\n",
       "      <td>87.4</td>\n",
       "      <td>3.1</td>\n",
       "      <td>4.1</td>\n",
       "    </tr>\n",
       "    <tr>\n",
       "      <th>344</th>\n",
       "      <td>Woodland Elementary</td>\n",
       "      <td>4.0</td>\n",
       "      <td>424.0</td>\n",
       "      <td>55.0</td>\n",
       "      <td>84.8</td>\n",
       "      <td>76.7</td>\n",
       "      <td>14.1</td>\n",
       "      <td>Public</td>\n",
       "      <td>69.4</td>\n",
       "      <td>79.4</td>\n",
       "      <td>30.0</td>\n",
       "      <td>11.6</td>\n",
       "      <td>70.5</td>\n",
       "      <td>2.1</td>\n",
       "      <td>9.7</td>\n",
       "    </tr>\n",
       "    <tr>\n",
       "      <th>345</th>\n",
       "      <td>Woodland Middle School</td>\n",
       "      <td>5.0</td>\n",
       "      <td>866.0</td>\n",
       "      <td>2.0</td>\n",
       "      <td>93.3</td>\n",
       "      <td>97.1</td>\n",
       "      <td>19.2</td>\n",
       "      <td>Public</td>\n",
       "      <td>89.8</td>\n",
       "      <td>84.9</td>\n",
       "      <td>45.0</td>\n",
       "      <td>4.5</td>\n",
       "      <td>77.6</td>\n",
       "      <td>10.0</td>\n",
       "      <td>4.4</td>\n",
       "    </tr>\n",
       "    <tr>\n",
       "      <th>346</th>\n",
       "      <td>Wright Middle</td>\n",
       "      <td>0.0</td>\n",
       "      <td>829.0</td>\n",
       "      <td>89.0</td>\n",
       "      <td>4.5</td>\n",
       "      <td>1.2</td>\n",
       "      <td>16.5</td>\n",
       "      <td>Public</td>\n",
       "      <td>2.7</td>\n",
       "      <td>9.6</td>\n",
       "      <td>50.0</td>\n",
       "      <td>22.3</td>\n",
       "      <td>21.0</td>\n",
       "      <td>6.6</td>\n",
       "      <td>49.5</td>\n",
       "    </tr>\n",
       "  </tbody>\n",
       "</table>\n",
       "</div>"
      ],
      "text/plain": [
       "                             name  school_rating   size  reduced_lunch  \\\n",
       "342  Winfree Bryant Middle School            3.0  611.0           57.0   \n",
       "343    Winstead Elementary School            5.0  515.0            8.0   \n",
       "344           Woodland Elementary            4.0  424.0           55.0   \n",
       "345        Woodland Middle School            5.0  866.0            2.0   \n",
       "346                 Wright Middle            0.0  829.0           89.0   \n",
       "\n",
       "     state_percentile_16  state_percentile_15  stu_teach_ratio school_type  \\\n",
       "342                 59.1                 65.2             16.9      Public   \n",
       "343                 93.9                 97.0             14.3      Public   \n",
       "344                 84.8                 76.7             14.1      Public   \n",
       "345                 93.3                 97.1             19.2      Public   \n",
       "346                  4.5                  1.2             16.5      Public   \n",
       "\n",
       "     avg_score_15  avg_score_16  full_time_teachers  percent_black  \\\n",
       "342          61.4          57.7                36.0           15.2   \n",
       "343          92.0          89.3                36.0            3.3   \n",
       "344          69.4          79.4                30.0           11.6   \n",
       "345          89.8          84.9                45.0            4.5   \n",
       "346           2.7           9.6                50.0           22.3   \n",
       "\n",
       "     percent_white  percent_asian  percent_hispanic  \n",
       "342           66.3            1.5              15.7  \n",
       "343           87.4            3.1               4.1  \n",
       "344           70.5            2.1               9.7  \n",
       "345           77.6           10.0               4.4  \n",
       "346           21.0            6.6              49.5  "
      ]
     },
     "execution_count": 41,
     "metadata": {},
     "output_type": "execute_result"
    }
   ],
   "source": [
    "df.tail()"
   ]
  },
  {
   "cell_type": "code",
   "execution_count": 42,
   "metadata": {},
   "outputs": [
    {
     "data": {
      "text/plain": [
       "<Axes: >"
      ]
     },
     "execution_count": 42,
     "metadata": {},
     "output_type": "execute_result"
    },
    {
     "data": {
      "image/png": "[encoded data removed]",
      "text/plain": [
       "<Figure size 640x480 with 1 Axes>"
      ]
     },
     "metadata": {},
     "output_type": "display_data"
    }
   ],
   "source": [
    "df.school_rating.hist(bins=20)"
   ]
  },
  {
   "cell_type": "markdown",
   "metadata": {},
   "source": [
    "showing a scatter graph using dataset above"
   ]
  },
  {
   "cell_type": "code",
   "execution_count": 43,
   "metadata": {},
   "outputs": [],
   "source": [
    "import matplotlib.pyplot as plt "
   ]
  },
  {
   "cell_type": "code",
   "execution_count": 44,
   "metadata": {},
   "outputs": [],
   "source": [
    "import seaborn as sns"
   ]
  },
  {
   "cell_type": "code",
   "execution_count": 45,
   "metadata": {},
   "outputs": [],
   "source": [
    "\n",
    "df= pd.read_csv('https://raw.githubusercontent.com/LearnDataSci/article-resources/master/Essential%20Statistics/middle_tn_schools.csv')"
   ]
  },
  {
   "cell_type": "code",
   "execution_count": 52,
   "metadata": {},
   "outputs": [
    {
     "data": {
      "image/png": "[encoded data removed]",
      "text/plain": [
       "<Figure size 1400x800 with 1 Axes>"
      ]
     },
     "metadata": {},
     "output_type": "display_data"
    }
   ],
   "source": [
    "fig, ax = plt.subplots(figsize=(14,8))\n",
    "\n",
    "ax.set_ylabel(['school_rating'])\n",
    "sns.boxplot(x=\"reduced_lunch\",y=\"school_rating\",data=df)\n",
    "plt.title(\"Boxplot grouped by school_rating against reduced-lunch\")\n",
    "plt.show()"
   ]
  },
  {
   "cell_type": "markdown",
   "metadata": {},
   "source": [
    "The boxpolt above shows the school-rating against reduced_lunch."
   ]
  },
  {
   "cell_type": "markdown",
   "metadata": {},
   "source": [
    "Qn (2) matrix and numerical python"
   ]
  },
  {
   "cell_type": "code",
   "execution_count": null,
   "metadata": {},
   "outputs": [],
   "source": [
    "import numpy as np"
   ]
  },
  {
   "cell_type": "markdown",
   "metadata": {},
   "source": [
    "construct a matrix "
   ]
  },
  {
   "cell_type": "code",
   "execution_count": 53,
   "metadata": {},
   "outputs": [
    {
     "name": "stdout",
     "output_type": "stream",
     "text": [
      "Original Matrix:\n",
      "[[1.  0.2 0.5]\n",
      " [0.2 1.  0.8]\n",
      " [0.5 0.8 1. ]]\n"
     ]
    }
   ],
   "source": [
    "matrix = np.array([[1, 0.2, 0.5], [0.2, 1, 0.8], [0.5, 0.8, 1]])\n",
    "print(\"Original Matrix:\")\n",
    "print(matrix)"
   ]
  },
  {
   "cell_type": "markdown",
   "metadata": {},
   "source": [
    "(a) inversion of a matrix(transpose)"
   ]
  },
  {
   "cell_type": "code",
   "execution_count": 54,
   "metadata": {},
   "outputs": [
    {
     "name": "stdout",
     "output_type": "stream",
     "text": [
      "\n",
      "Inverse of the Matrix (Transpose):\n",
      "[[ 1.56521739  0.86956522 -1.47826087]\n",
      " [ 0.86956522  3.26086957 -3.04347826]\n",
      " [-1.47826087 -3.04347826  4.17391304]]\n"
     ]
    }
   ],
   "source": [
    "inverse_matrix = np.linalg.inv(matrix)\n",
    "print(\"\\nInverse of the Matrix (Transpose):\")\n",
    "print(inverse_matrix)"
   ]
  },
  {
   "cell_type": "markdown",
   "metadata": {},
   "source": [
    "(b)Determinant of a matrix"
   ]
  },
  {
   "cell_type": "code",
   "execution_count": 55,
   "metadata": {},
   "outputs": [
    {
     "name": "stdout",
     "output_type": "stream",
     "text": [
      "\n",
      "Determinant of the Matrix:\n",
      "0.2299999999999999\n"
     ]
    }
   ],
   "source": [
    "\n",
    "determinant = np.linalg.det(matrix)\n",
    "print(\"\\nDeterminant of the Matrix:\")\n",
    "print(determinant)"
   ]
  }
 ],
 "metadata": {
  "kernelspec": {
   "display_name": "Python 3",
   "language": "python",
   "name": "python3"
  },
  "language_info": {
   "codemirror_mode": {
    "name": "ipython",
    "version": 3
   },
   "file_extension": ".py",
   "mimetype": "text/x-python",
   "name": "python",
   "nbconvert_exporter": "python",
   "pygments_lexer": "ipython3",
   "version": "3.11.5"
  }
 },
 "nbformat": 4,
 "nbformat_minor": 2
}
